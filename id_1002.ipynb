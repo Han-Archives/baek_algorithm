{
  "nbformat": 4,
  "nbformat_minor": 0,
  "metadata": {
    "colab": {
      "name": "id_1002.ipynb",
      "provenance": [],
      "authorship_tag": "ABX9TyM8I9R2gp9HEmtXqXNENPhf",
      "include_colab_link": true
    },
    "kernelspec": {
      "name": "python3",
      "display_name": "Python 3"
    },
    "language_info": {
      "name": "python"
    }
  },
  "cells": [
    {
      "cell_type": "markdown",
      "metadata": {
        "id": "view-in-github",
        "colab_type": "text"
      },
      "source": [
        "<a href=\"https://colab.research.google.com/github/Han-Archives/baek_algorithm/blob/main/id_1002.ipynb\" target=\"_parent\"><img src=\"https://colab.research.google.com/assets/colab-badge.svg\" alt=\"Open In Colab\"/></a>"
      ]
    },
    {
      "cell_type": "code",
      "source": [
        "# first_submit\n",
        "import sympy as sp\n",
        "\n",
        "x, y = sp.symbols(\"x y\")\n",
        "\n",
        "x1, y1, r1, x2, y2, r2 = map(int,input().split())\n",
        "\n",
        "equation1 = (x-x1)**2 + (y-y1)**2 - r1**2\n",
        "equation2 = (x-x2)**2 + (y-y2)**2 - r2**2\n",
        "\n",
        "count_result = len(sp.solve((equation1, equation2), dict=True))\n",
        "\n",
        "print(count_result)"
      ],
      "metadata": {
        "colab": {
          "base_uri": "https://localhost:8080/"
        },
        "id": "huKEVVaerKvY",
        "outputId": "f066dc4f-cac4-4f4a-b1f9-c03c8fe18234"
      },
      "execution_count": 2,
      "outputs": [
        {
          "output_type": "stream",
          "name": "stdout",
          "text": [
            "0 0 1 3 4 5\n",
            "2\n"
          ]
        }
      ]
    },
    {
      "cell_type": "code",
      "source": [
        "count_result"
      ],
      "metadata": {
        "colab": {
          "base_uri": "https://localhost:8080/"
        },
        "id": "x6TKtfZ4utXe",
        "outputId": "b635ec71-8c6a-4ff7-ece9-d1d2c140b0ae"
      },
      "execution_count": 7,
      "outputs": [
        {
          "output_type": "execute_result",
          "data": {
            "text/plain": [
              "0"
            ]
          },
          "metadata": {},
          "execution_count": 7
        }
      ]
    },
    {
      "cell_type": "code",
      "source": [
        "# first_submit\n",
        "import sympy as sp\n",
        "\n",
        "times = int(input())\n",
        "\n",
        "for _ in range(times):\n",
        "\n",
        "  x1, y1, r1, x2, y2, r2 = map(int,input().split())\n",
        "\n",
        "  equation1 = (x-x1)**2 + (y-y1)**2 - r1**2\n",
        "  equation2 = (x-x2)**2 + (y-y2)**2 - r2**2\n",
        "\n",
        "  count_result = len(sp.solve((equation1, equation2), dict=True))\n",
        "  \n",
        "  if count_result == float(\"inf\"):\n",
        "    print(-1)\n",
        "\n",
        "  else:\n",
        "    print(count_result)"
      ],
      "metadata": {
        "id": "V8ui9lxFcFzq"
      },
      "execution_count": null,
      "outputs": []
    },
    {
      "cell_type": "markdown",
      "source": [
        "모듈의 설치가 안되는 것 같다. 따라서 수학 모듈을 쓰지 않고 풀이하는 과정으로 생각을 해봐야할 것 같다.\n",
        "\n",
        "위 문제의\n",
        "요점은 각 원의 중심간의 거리 d 값이 r1+r2보다 길면 0, 같으면 1, 작으면 2로 보면 된다. 단 x1 = x2, y1 = y2, r1 =r 2인 경우는 -1이면 되는 문제이다."
      ],
      "metadata": {
        "id": "0IWQrIemLnRl"
      }
    },
    {
      "cell_type": "code",
      "source": [
        "times = input()\n",
        "\n",
        "for i in range(int(times)):\n",
        "\n",
        "  x1, y1, r1, x2, y2, r2 = map(int,input().split())\n",
        "  d = (x1-x2)**2+(y1-y2)**2\n",
        "  r = r1**2 +r2**2\n",
        "\n",
        "  if (x1==x2) & (y1==y2):\n",
        "    if (r1 == r2):\n",
        "      print(-1)\n",
        "    else:\n",
        "      print(0)\n",
        "  \n",
        "  elif d > r:\n",
        "    print(0)\n",
        "  elif d == r:\n",
        "    print(1)\n",
        "  else:\n",
        "    print(2)"
      ],
      "metadata": {
        "colab": {
          "base_uri": "https://localhost:8080/",
          "height": 269
        },
        "id": "RePhuIYkS5bA",
        "outputId": "040afed7-f45d-4324-97c1-592438239379"
      },
      "execution_count": 4,
      "outputs": [
        {
          "name": "stdout",
          "output_type": "stream",
          "text": [
            "3 0 0 13 40 0 37 0 0 3 0 7 4 1 1 1 1 1 5\n"
          ]
        },
        {
          "output_type": "error",
          "ename": "ValueError",
          "evalue": "ignored",
          "traceback": [
            "\u001b[0;31m---------------------------------------------------------------------------\u001b[0m",
            "\u001b[0;31mValueError\u001b[0m                                Traceback (most recent call last)",
            "\u001b[0;32m<ipython-input-4-2f010c1d307b>\u001b[0m in \u001b[0;36m<module>\u001b[0;34m()\u001b[0m\n\u001b[1;32m      1\u001b[0m \u001b[0mtimes\u001b[0m \u001b[0;34m=\u001b[0m \u001b[0minput\u001b[0m\u001b[0;34m(\u001b[0m\u001b[0;34m)\u001b[0m\u001b[0;34m\u001b[0m\u001b[0;34m\u001b[0m\u001b[0m\n\u001b[1;32m      2\u001b[0m \u001b[0;34m\u001b[0m\u001b[0m\n\u001b[0;32m----> 3\u001b[0;31m \u001b[0;32mfor\u001b[0m \u001b[0mi\u001b[0m \u001b[0;32min\u001b[0m \u001b[0mrange\u001b[0m\u001b[0;34m(\u001b[0m\u001b[0mint\u001b[0m\u001b[0;34m(\u001b[0m\u001b[0mtimes\u001b[0m\u001b[0;34m)\u001b[0m\u001b[0;34m)\u001b[0m\u001b[0;34m:\u001b[0m\u001b[0;34m\u001b[0m\u001b[0;34m\u001b[0m\u001b[0m\n\u001b[0m\u001b[1;32m      4\u001b[0m \u001b[0;34m\u001b[0m\u001b[0m\n\u001b[1;32m      5\u001b[0m   \u001b[0mx1\u001b[0m\u001b[0;34m,\u001b[0m \u001b[0my1\u001b[0m\u001b[0;34m,\u001b[0m \u001b[0mr1\u001b[0m\u001b[0;34m,\u001b[0m \u001b[0mx2\u001b[0m\u001b[0;34m,\u001b[0m \u001b[0my2\u001b[0m\u001b[0;34m,\u001b[0m \u001b[0mr2\u001b[0m \u001b[0;34m=\u001b[0m \u001b[0mmap\u001b[0m\u001b[0;34m(\u001b[0m\u001b[0mint\u001b[0m\u001b[0;34m,\u001b[0m\u001b[0minput\u001b[0m\u001b[0;34m(\u001b[0m\u001b[0;34m)\u001b[0m\u001b[0;34m.\u001b[0m\u001b[0msplit\u001b[0m\u001b[0;34m(\u001b[0m\u001b[0;34m)\u001b[0m\u001b[0;34m)\u001b[0m\u001b[0;34m\u001b[0m\u001b[0;34m\u001b[0m\u001b[0m\n",
            "\u001b[0;31mValueError\u001b[0m: invalid literal for int() with base 10: '3 0 0 13 40 0 37 0 0 3 0 7 4 1 1 1 1 1 5'"
          ]
        }
      ]
    },
    {
      "cell_type": "code",
      "source": [
        "sp.solve(equation)"
      ],
      "metadata": {
        "colab": {
          "base_uri": "https://localhost:8080/"
        },
        "id": "zZPQZmiyuCR4",
        "outputId": "5779bdc9-16bf-4bf5-a2c0-f8a954e09445"
      },
      "execution_count": 28,
      "outputs": [
        {
          "output_type": "execute_result",
          "data": {
            "text/plain": [
              "[5]"
            ]
          },
          "metadata": {},
          "execution_count": 28
        }
      ]
    },
    {
      "cell_type": "code",
      "source": [
        "times = input()\n"
      ],
      "metadata": {
        "colab": {
          "base_uri": "https://localhost:8080/"
        },
        "id": "kp28KxxauE-7",
        "outputId": "736a680b-8170-4d90-bd70-ced2795df4f9"
      },
      "execution_count": 9,
      "outputs": [
        {
          "output_type": "stream",
          "name": "stdout",
          "text": [
            "-1\n"
          ]
        }
      ]
    },
    {
      "cell_type": "code",
      "source": [
        "import sys\n",
        "input = sys.stdin.readline\n",
        "\n",
        "input"
      ],
      "metadata": {
        "colab": {
          "base_uri": "https://localhost:8080/"
        },
        "id": "Qd3rnCbZUPe_",
        "outputId": "6f1bfab4-bb7f-4f84-e84f-44fd79805450"
      },
      "execution_count": 2,
      "outputs": [
        {
          "output_type": "execute_result",
          "data": {
            "text/plain": [
              "<function TextIOWrapper.readline>"
            ]
          },
          "metadata": {},
          "execution_count": 2
        }
      ]
    },
    {
      "cell_type": "code",
      "source": [
        "import math\n",
        "\n",
        "times = input()\n",
        "\n",
        "for i in range(int(times)):\n",
        "\n",
        "  x1, y1, r1, x2, y2, r2 = map(int,input().split())\n",
        "  d = math.sqrt((x1-x2)**2+(y1-y2)**2)\n",
        "  r = r1+r2\n",
        "\n",
        "  if (x1==x2) & (y1==y2):\n",
        "    if (r1 == r2):\n",
        "      print(-1)\n",
        "    else:\n",
        "      print(0)\n",
        "  \n",
        "  elif d > r:\n",
        "    print(0)\n",
        "  elif d == r:\n",
        "    print(1)\n",
        "  else:\n",
        "    print(2)"
      ],
      "metadata": {
        "colab": {
          "base_uri": "https://localhost:8080/"
        },
        "id": "wU_5EYfwaO0Z",
        "outputId": "886067e0-1173-4a83-e0c6-cb3667d9bdc9"
      },
      "execution_count": 20,
      "outputs": [
        {
          "output_type": "stream",
          "name": "stdout",
          "text": [
            "1\n",
            "-30 40 50 -3 4 5\n",
            "2\n"
          ]
        }
      ]
    },
    {
      "cell_type": "markdown",
      "source": [
        "내접원에 대한 이슈는 해결하지 못했으므로 보완해야겠다."
      ],
      "metadata": {
        "id": "iwlMoO_Ign5V"
      }
    },
    {
      "cell_type": "code",
      "source": [
        "d"
      ],
      "metadata": {
        "colab": {
          "base_uri": "https://localhost:8080/"
        },
        "id": "HnxPNJJDaCb7",
        "outputId": "712e360f-c3f5-43a5-e9f2-6b375c8d1ca9"
      },
      "execution_count": 11,
      "outputs": [
        {
          "output_type": "execute_result",
          "data": {
            "text/plain": [
              "1600"
            ]
          },
          "metadata": {},
          "execution_count": 11
        }
      ]
    },
    {
      "cell_type": "code",
      "source": [
        "r"
      ],
      "metadata": {
        "colab": {
          "base_uri": "https://localhost:8080/"
        },
        "id": "egQa-FGCOm8B",
        "outputId": "e46a4919-72ab-4cad-9aef-fe0b0cc870cb"
      },
      "execution_count": 12,
      "outputs": [
        {
          "output_type": "execute_result",
          "data": {
            "text/plain": [
              "1538"
            ]
          },
          "metadata": {},
          "execution_count": 12
        }
      ]
    },
    {
      "cell_type": "code",
      "source": [
        ""
      ],
      "metadata": {
        "id": "WpEfiYBYOnuY"
      },
      "execution_count": null,
      "outputs": []
    },
    {
      "cell_type": "code",
      "source": [
        ""
      ],
      "metadata": {
        "id": "mjzjRTXdrC3U"
      },
      "execution_count": null,
      "outputs": []
    }
  ]
}