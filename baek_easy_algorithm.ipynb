{
  "nbformat": 4,
  "nbformat_minor": 0,
  "metadata": {
    "colab": {
      "name": "baek_easy_algorithm.ipynb",
      "provenance": [],
      "authorship_tag": "ABX9TyPM2nEV+vvnrmy66WWdTSls",
      "include_colab_link": true
    },
    "kernelspec": {
      "name": "python3",
      "display_name": "Python 3"
    },
    "language_info": {
      "name": "python"
    }
  },
  "cells": [
    {
      "cell_type": "markdown",
      "metadata": {
        "id": "view-in-github",
        "colab_type": "text"
      },
      "source": [
        "<a href=\"https://colab.research.google.com/github/Han-Archives/baek_algorithm/blob/main/baek_easy_algorithm.ipynb\" target=\"_parent\"><img src=\"https://colab.research.google.com/assets/colab-badge.svg\" alt=\"Open In Colab\"/></a>"
      ]
    },
    {
      "cell_type": "markdown",
      "source": [
        "푼 알고리즘 문제\n",
        "\n",
        "id_1000, id_1001\n",
        "\n",
        "id_2557"
      ],
      "metadata": {
        "id": "xioAH5LWWzhw"
      }
    },
    {
      "cell_type": "markdown",
      "source": [
        "문제 2557 번\n",
        "\n",
        "문자열 \"Hello World!\" 출력하기"
      ],
      "metadata": {
        "id": "Ft36pElIWHqZ"
      }
    },
    {
      "cell_type": "code",
      "execution_count": null,
      "metadata": {
        "colab": {
          "base_uri": "https://localhost:8080/"
        },
        "id": "aDYHL2wKVzm9",
        "outputId": "4b886fef-20cd-417c-c9a9-8c8a0c48e03b"
      },
      "outputs": [
        {
          "output_type": "stream",
          "name": "stdout",
          "text": [
            "Hello World!\n"
          ]
        }
      ],
      "source": [
        "# 2557\n",
        "print(\"Hello World!\")"
      ]
    },
    {
      "cell_type": "markdown",
      "source": [
        "문제 1000 번\n",
        "\n",
        "두 숫자를 받고 합의 결과를 반환하라"
      ],
      "metadata": {
        "id": "nSySKXa2XARa"
      }
    },
    {
      "cell_type": "code",
      "source": [
        "# 1000\n",
        "a, b = map(int,input().split())\n",
        "\n",
        "c = a+b\n",
        "print(c)"
      ],
      "metadata": {
        "colab": {
          "base_uri": "https://localhost:8080/"
        },
        "id": "6JOs_E9oWVMU",
        "outputId": "09db84c7-510e-43b5-ad8a-f15b0fe81b8b"
      },
      "execution_count": null,
      "outputs": [
        {
          "output_type": "stream",
          "name": "stdout",
          "text": [
            "1 2\n",
            "3\n"
          ]
        }
      ]
    },
    {
      "cell_type": "markdown",
      "source": [
        "문제 1001 번\n",
        "\n",
        "두 숫자를 받고 뺄셈의 결과를 반환하라"
      ],
      "metadata": {
        "id": "VUIG-IHRYuph"
      }
    },
    {
      "cell_type": "code",
      "source": [
        "# 1001\n",
        "a, b = map(int,input().split())\n",
        "\n",
        "c = a-b\n",
        "print(c)"
      ],
      "metadata": {
        "colab": {
          "base_uri": "https://localhost:8080/"
        },
        "id": "Yg7PeEacXMmZ",
        "outputId": "be0df2b9-f2c7-4317-c3a8-ae894de9b80d"
      },
      "execution_count": null,
      "outputs": [
        {
          "output_type": "stream",
          "name": "stdout",
          "text": [
            "3 2\n",
            "1\n"
          ]
        }
      ]
    },
    {
      "cell_type": "markdown",
      "source": [
        "문제 10171"
      ],
      "metadata": {
        "id": "64nykLU8YA08"
      }
    },
    {
      "cell_type": "code",
      "source": [
        "# 10171\n",
        "\n",
        "print(\"\\\\    /\\\\\")\n",
        "print(\" )  ( \\')\")\n",
        "print(\"(  /  )\")\n",
        "print(\" \\\\(__)|\")"
      ],
      "metadata": {
        "id": "lrYdeieIW_Kh",
        "colab": {
          "base_uri": "https://localhost:8080/"
        },
        "outputId": "4fca392b-fa54-4303-be80-84ed5ef1149d"
      },
      "execution_count": 1,
      "outputs": [
        {
          "output_type": "stream",
          "name": "stdout",
          "text": [
            "\\    /\\\n",
            " )  ( ')\n",
            "(  /  )\n",
            " \\(__)|\n"
          ]
        }
      ]
    },
    {
      "cell_type": "markdown",
      "source": [
        "문제 10172"
      ],
      "metadata": {
        "id": "9lzapZJ1YUsb"
      }
    },
    {
      "cell_type": "code",
      "source": [
        "# 10172\n",
        "print(\"|\\\\_/|\")\n",
        "print(\"|q p|   /}\")\n",
        "print(\"( 0 )\\\"\\\"\\\"\\\\\")\n",
        "print(\"|\\\"^\\\"`    |\")\n",
        "print(\"||_/=\\\\\\\\__|\")\n"
      ],
      "metadata": {
        "colab": {
          "base_uri": "https://localhost:8080/"
        },
        "id": "rIoz8FYNYXBo",
        "outputId": "22466dcf-1d2d-426c-acc0-93b9ea6a298c"
      },
      "execution_count": 3,
      "outputs": [
        {
          "output_type": "stream",
          "name": "stdout",
          "text": [
            "|\\_/|\n",
            "|q p|   /}\n",
            "( 0 )\"\"\"\\\n",
            "|\"^\"`    |\n",
            "||_/=\\\\__|\n"
          ]
        }
      ]
    },
    {
      "cell_type": "markdown",
      "source": [
        "문제 10998"
      ],
      "metadata": {
        "id": "FJ78hQh6Z6r1"
      }
    },
    {
      "cell_type": "code",
      "source": [
        "# 10998\n",
        "a, b = map(int, input().split())\n",
        "\n",
        "c = a*b\n",
        "print(c)"
      ],
      "metadata": {
        "colab": {
          "base_uri": "https://localhost:8080/"
        },
        "id": "uqXZwFeBZUS_",
        "outputId": "cabb1e2c-2f71-4fd2-dbcd-ae96549002af"
      },
      "execution_count": 4,
      "outputs": [
        {
          "output_type": "stream",
          "name": "stdout",
          "text": [
            "3 4\n",
            "12\n"
          ]
        }
      ]
    },
    {
      "cell_type": "markdown",
      "source": [
        "문제 15596"
      ],
      "metadata": {
        "id": "Fvpdk5ZrcHFn"
      }
    },
    {
      "cell_type": "code",
      "source": [
        "# 15596\n",
        "def solve(a):\n",
        "  result = sum(a)\n",
        "\n",
        "  return result"
      ],
      "metadata": {
        "id": "lgsiW3XgZ37J"
      },
      "execution_count": null,
      "outputs": []
    },
    {
      "cell_type": "markdown",
      "source": [
        "문제 10869"
      ],
      "metadata": {
        "id": "fOkEw5O_cfSg"
      }
    },
    {
      "cell_type": "code",
      "source": [
        "# 10869\n",
        "\n",
        "a,b = map(int,input().split())\n",
        "# equation\n",
        "sum_ = a+b\n",
        "sub_ = a-b\n",
        "mul_ = a*b\n",
        "div_ = int(a/b)\n",
        "mod_ = a%b\n",
        "\n",
        "# print\n",
        "print(sum_)\n",
        "print(sub_)\n",
        "print(mul_)\n",
        "print(div_)\n",
        "print(mod_)"
      ],
      "metadata": {
        "colab": {
          "base_uri": "https://localhost:8080/"
        },
        "id": "LmlAMW_EcdLv",
        "outputId": "882e2225-71c1-48df-e0bb-5b5355bb7e26"
      },
      "execution_count": 9,
      "outputs": [
        {
          "output_type": "stream",
          "name": "stdout",
          "text": [
            "7 3\n",
            "10\n",
            "4\n",
            "21\n",
            "2\n",
            "1\n"
          ]
        }
      ]
    },
    {
      "cell_type": "markdown",
      "source": [
        "문제 1008번"
      ],
      "metadata": {
        "id": "fyDWr5MeeZUa"
      }
    },
    {
      "cell_type": "code",
      "source": [
        "# 1008\n",
        "a, b = map(int, input().split())\n",
        "\n",
        "c = a/b\n",
        "\n",
        "print(c)"
      ],
      "metadata": {
        "id": "eXdeKSczeY_q"
      },
      "execution_count": null,
      "outputs": []
    },
    {
      "cell_type": "markdown",
      "source": [
        "문제 10430\n",
        "\n",
        "첫째 줄에 (A+B)%C, 둘째 줄에 ((A%C) + (B%C))%C, 셋째 줄에 (A×B)%C, 넷째 줄에 ((A%C) × (B%C))%C를 출력한다."
      ],
      "metadata": {
        "id": "2vA9vPSKezYe"
      }
    },
    {
      "cell_type": "code",
      "source": [
        "# 10430\n",
        "\n",
        "a,b,c = map(int,input().split())\n",
        "\n",
        "line1 = (a+b)%c\n",
        "line2 = ((a%c)+(b%c))%c\n",
        "line3 = (a*b)%c\n",
        "line4 = ((a%c)*(b%c))%c\n",
        "\n",
        "print(line1)\n",
        "print(line2)\n",
        "print(line3)\n",
        "print(line4)"
      ],
      "metadata": {
        "colab": {
          "base_uri": "https://localhost:8080/"
        },
        "id": "42UbfkKleisT",
        "outputId": "232be82f-f9af-4123-bc9a-40de02066470"
      },
      "execution_count": 10,
      "outputs": [
        {
          "output_type": "stream",
          "name": "stdout",
          "text": [
            "5 8 4\n",
            "1\n",
            "1\n",
            "0\n",
            "0\n"
          ]
        }
      ]
    },
    {
      "cell_type": "markdown",
      "source": [
        "문제 2558"
      ],
      "metadata": {
        "id": "8GdiBIwih0RQ"
      }
    },
    {
      "cell_type": "code",
      "source": [
        "# 2558\n",
        "\n",
        "a = int(input())\n",
        "b = int(input())\n",
        "\n",
        "b_100 = int(b/100)\n",
        "b_10 = int(b/10) - b_100*10\n",
        "b_1 = b-(b_100*100+b_10*10)\n",
        "\n",
        "line3 = a*b_1\n",
        "line4 = a*b_10\n",
        "line5 = a*b_100\n",
        "line6 = line3+line4*10+line5*100\n",
        "\n",
        "print(line3)\n",
        "print(line4)\n",
        "print(line5)\n",
        "print(line6)"
      ],
      "metadata": {
        "colab": {
          "base_uri": "https://localhost:8080/",
          "height": 281
        },
        "id": "IBpGebkzfQ0G",
        "outputId": "dbfe4b40-a850-4504-debd-1dd4b617ae53"
      },
      "execution_count": 13,
      "outputs": [
        {
          "name": "stdout",
          "output_type": "stream",
          "text": [
            "472\n",
            "385\n"
          ]
        },
        {
          "output_type": "error",
          "ename": "TypeError",
          "evalue": "ignored",
          "traceback": [
            "\u001b[0;31m---------------------------------------------------------------------------\u001b[0m",
            "\u001b[0;31mTypeError\u001b[0m                                 Traceback (most recent call last)",
            "\u001b[0;32m<ipython-input-13-ecb4f5155d0c>\u001b[0m in \u001b[0;36m<module>\u001b[0;34m()\u001b[0m\n\u001b[1;32m      4\u001b[0m \u001b[0mb\u001b[0m \u001b[0;34m=\u001b[0m \u001b[0mmap\u001b[0m\u001b[0;34m(\u001b[0m\u001b[0mint\u001b[0m\u001b[0;34m,\u001b[0m \u001b[0minput\u001b[0m\u001b[0;34m(\u001b[0m\u001b[0;34m)\u001b[0m\u001b[0;34m)\u001b[0m\u001b[0;34m\u001b[0m\u001b[0;34m\u001b[0m\u001b[0m\n\u001b[1;32m      5\u001b[0m \u001b[0;34m\u001b[0m\u001b[0m\n\u001b[0;32m----> 6\u001b[0;31m \u001b[0mb_100\u001b[0m \u001b[0;34m=\u001b[0m \u001b[0mint\u001b[0m\u001b[0;34m(\u001b[0m\u001b[0mb\u001b[0m\u001b[0;34m/\u001b[0m\u001b[0;36m100\u001b[0m\u001b[0;34m)\u001b[0m\u001b[0;34m\u001b[0m\u001b[0;34m\u001b[0m\u001b[0m\n\u001b[0m\u001b[1;32m      7\u001b[0m \u001b[0mb_10\u001b[0m \u001b[0;34m=\u001b[0m \u001b[0mint\u001b[0m\u001b[0;34m(\u001b[0m\u001b[0mb\u001b[0m\u001b[0;34m/\u001b[0m\u001b[0;36m10\u001b[0m\u001b[0;34m)\u001b[0m \u001b[0;34m-\u001b[0m \u001b[0mb_100\u001b[0m\u001b[0;34m*\u001b[0m\u001b[0;36m10\u001b[0m\u001b[0;34m\u001b[0m\u001b[0;34m\u001b[0m\u001b[0m\n\u001b[1;32m      8\u001b[0m \u001b[0mb_1\u001b[0m \u001b[0;34m=\u001b[0m \u001b[0mb\u001b[0m\u001b[0;34m-\u001b[0m\u001b[0;34m(\u001b[0m\u001b[0mb_100\u001b[0m\u001b[0;34m*\u001b[0m\u001b[0;36m100\u001b[0m\u001b[0;34m+\u001b[0m\u001b[0mb_10\u001b[0m\u001b[0;34m*\u001b[0m\u001b[0;36m10\u001b[0m\u001b[0;34m)\u001b[0m\u001b[0;34m\u001b[0m\u001b[0;34m\u001b[0m\u001b[0m\n",
            "\u001b[0;31mTypeError\u001b[0m: unsupported operand type(s) for /: 'map' and 'int'"
          ]
        }
      ]
    },
    {
      "cell_type": "markdown",
      "source": [
        "문제 1330번"
      ],
      "metadata": {
        "id": "Qm9847g-iazm"
      }
    },
    {
      "cell_type": "code",
      "source": [
        "# 1330\n",
        "a, b = map(int, input().split())\n",
        "\n",
        "if a>b:\n",
        "  print(\">\")\n",
        "elif a==b:\n",
        "  print(\"==\")\n",
        "else:\n",
        "  print(\"<\")"
      ],
      "metadata": {
        "colab": {
          "base_uri": "https://localhost:8080/"
        },
        "id": "7TA4aKHchHSQ",
        "outputId": "13dd0f6e-ac8e-4a40-c3ae-758378e9af9e"
      },
      "execution_count": 15,
      "outputs": [
        {
          "output_type": "stream",
          "name": "stdout",
          "text": [
            "10 5\n",
            ">\n"
          ]
        }
      ]
    },
    {
      "cell_type": "markdown",
      "source": [
        "문제 9498번"
      ],
      "metadata": {
        "id": "uvvlgt56jIhd"
      }
    },
    {
      "cell_type": "code",
      "source": [
        "# 9498\n",
        "a = int(input())\n",
        "\n",
        "if 89<a:\n",
        "  print(\"A\")\n",
        "elif 79<a<90:\n",
        "  print(\"B\")\n",
        "elif 69<a<80:\n",
        "  print(\"C\")\n",
        "elif 59<a<70:\n",
        "  print(\"D\")\n",
        "else:\n",
        "  print(\"F\")"
      ],
      "metadata": {
        "colab": {
          "base_uri": "https://localhost:8080/"
        },
        "id": "2qMbwMNciuvs",
        "outputId": "c0b07158-555e-4ca9-de90-dd160c0f1a52"
      },
      "execution_count": 18,
      "outputs": [
        {
          "output_type": "stream",
          "name": "stdout",
          "text": [
            "79\n",
            "C\n"
          ]
        }
      ]
    },
    {
      "cell_type": "markdown",
      "source": [
        "문제 2753번"
      ],
      "metadata": {
        "id": "8QJtWDbkkNon"
      }
    },
    {
      "cell_type": "code",
      "source": [
        "# 2753\n",
        "a = int(input())\n",
        "\n",
        "if a%4 == 0 and (a%100 != 0) or (a%400 == 0):\n",
        "  print(1)\n",
        "else:\n",
        "  print(0)"
      ],
      "metadata": {
        "colab": {
          "base_uri": "https://localhost:8080/"
        },
        "id": "btF3ifSdjtK2",
        "outputId": "df11b1b5-2796-4f51-de4f-d32e2ab85bbb"
      },
      "execution_count": 23,
      "outputs": [
        {
          "output_type": "stream",
          "name": "stdout",
          "text": [
            "1900\n",
            "0\n"
          ]
        }
      ]
    },
    {
      "cell_type": "markdown",
      "source": [
        "문제 14681번"
      ],
      "metadata": {
        "id": "F51_aoVIlzGS"
      }
    },
    {
      "cell_type": "code",
      "source": [
        "# 14681\n",
        "a = int(input())\n",
        "b = int(input())\n",
        "\n",
        "if a>0:\n",
        "  if b>0:\n",
        "    print(1)\n",
        "  else:\n",
        "    print(4)\n",
        "elif a<0:\n",
        "  if b>0:\n",
        "    print(2)\n",
        "  else:\n",
        "    print(3)\n"
      ],
      "metadata": {
        "id": "VYrEFFPKjr8R"
      },
      "execution_count": null,
      "outputs": []
    },
    {
      "cell_type": "markdown",
      "source": [
        "문제 2884번"
      ],
      "metadata": {
        "id": "LAqgDnOjmwSv"
      }
    },
    {
      "cell_type": "code",
      "source": [
        "# 2884\n",
        "a, b = map(int, input().split())\n",
        "\n",
        "if b<45:\n",
        "  if a==0:\n",
        "    a = 23\n",
        "    d = b+15\n",
        "  else:\n",
        "    a = a-1\n",
        "    d = b+15\n",
        "\n",
        "elif b>45:\n",
        "  d = b-45\n",
        "\n",
        "else:\n",
        "  d = 0\n",
        "\n",
        "print('{0} {1}'.format(a,d))"
      ],
      "metadata": {
        "colab": {
          "base_uri": "https://localhost:8080/"
        },
        "id": "GMaA4RUPo32q",
        "outputId": "8d49fa6c-75a2-42de-bf8c-9b61da19f53d"
      },
      "execution_count": 46,
      "outputs": [
        {
          "output_type": "stream",
          "name": "stdout",
          "text": [
            "13 45\n",
            "13 0\n"
          ]
        }
      ]
    },
    {
      "cell_type": "markdown",
      "source": [
        "문제 2739번"
      ],
      "metadata": {
        "id": "tU1r_Uv9tDTF"
      }
    },
    {
      "cell_type": "code",
      "source": [
        "# 2739\n",
        "a = int(input())\n",
        "\n",
        "for i in range(9):\n",
        "  i = i+1\n",
        "  b = a*i\n",
        "  print(\"{0} * {1} = {2}\".format(a,i,b))"
      ],
      "metadata": {
        "colab": {
          "base_uri": "https://localhost:8080/"
        },
        "id": "bwVvYqNMpsK8",
        "outputId": "133d189a-83c1-4534-c548-14190463b3cf"
      },
      "execution_count": 48,
      "outputs": [
        {
          "output_type": "stream",
          "name": "stdout",
          "text": [
            "2\n",
            "2 * 1 = 2\n",
            "2 * 2 = 4\n",
            "2 * 3 = 6\n",
            "2 * 4 = 8\n",
            "2 * 5 = 10\n",
            "2 * 6 = 12\n",
            "2 * 7 = 14\n",
            "2 * 8 = 16\n",
            "2 * 9 = 18\n"
          ]
        }
      ]
    },
    {
      "cell_type": "markdown",
      "source": [
        "문제 10950번"
      ],
      "metadata": {
        "id": "e9lWNi-Uu1YH"
      }
    },
    {
      "cell_type": "code",
      "source": [
        "# 10950\n",
        "\n",
        "times = int(input())\n",
        "\n",
        "for _ in range(times):\n",
        "  a,b = map(int,input().split())\n",
        "  c= a+b\n",
        "\n",
        "  print(c)"
      ],
      "metadata": {
        "colab": {
          "base_uri": "https://localhost:8080/"
        },
        "id": "Le7wu9Ret_HJ",
        "outputId": "21c6a20b-257c-4981-c714-5701151ac2c0"
      },
      "execution_count": 50,
      "outputs": [
        {
          "output_type": "stream",
          "name": "stdout",
          "text": [
            "5\n",
            "1 1\n",
            "2\n",
            "2 3\n",
            "5\n",
            "3 4\n",
            "7\n",
            "9 8\n",
            "17\n",
            "5 2\n",
            "7\n"
          ]
        }
      ]
    },
    {
      "cell_type": "markdown",
      "source": [
        "문제 8393번 - 풀이 중 끔 여기서 부터"
      ],
      "metadata": {
        "id": "xDGNOOl3wquP"
      }
    },
    {
      "cell_type": "code",
      "source": [
        "# 8393\n",
        "\n",
        "times = int(input())\n",
        "\n",
        "for i in range(times):\n",
        "  i = 1\n",
        "  result = i\n",
        "  result = result + i\n",
        "\n",
        "\n",
        "print(result)"
      ],
      "metadata": {
        "colab": {
          "base_uri": "https://localhost:8080/"
        },
        "id": "zHaWohNopWDW",
        "outputId": "63e6e8ee-e6c6-4af0-ffc4-e6970bf2f405"
      },
      "execution_count": 65,
      "outputs": [
        {
          "output_type": "stream",
          "name": "stdout",
          "text": [
            "3\n",
            "2\n"
          ]
        }
      ]
    },
    {
      "cell_type": "code",
      "source": [
        ""
      ],
      "metadata": {
        "id": "q-ix1WzdyFdY"
      },
      "execution_count": null,
      "outputs": []
    },
    {
      "cell_type": "code",
      "source": [
        ""
      ],
      "metadata": {
        "id": "6zgaVZZvx-oJ"
      },
      "execution_count": null,
      "outputs": []
    },
    {
      "cell_type": "code",
      "source": [
        ""
      ],
      "metadata": {
        "id": "lMNjEQIpx8rC"
      },
      "execution_count": null,
      "outputs": []
    }
  ]
}