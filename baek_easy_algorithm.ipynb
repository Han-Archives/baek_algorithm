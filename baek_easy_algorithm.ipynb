{
  "nbformat": 4,
  "nbformat_minor": 0,
  "metadata": {
    "colab": {
      "name": "baek_easy_algorithm.ipynb",
      "provenance": [],
      "authorship_tag": "ABX9TyNDkYmh0xOGT/zEiw1uTu2I",
      "include_colab_link": true
    },
    "kernelspec": {
      "name": "python3",
      "display_name": "Python 3"
    },
    "language_info": {
      "name": "python"
    }
  },
  "cells": [
    {
      "cell_type": "markdown",
      "metadata": {
        "id": "view-in-github",
        "colab_type": "text"
      },
      "source": [
        "<a href=\"https://colab.research.google.com/github/Han-Archives/baek_algorithm/blob/main/baek_easy_algorithm.ipynb\" target=\"_parent\"><img src=\"https://colab.research.google.com/assets/colab-badge.svg\" alt=\"Open In Colab\"/></a>"
      ]
    },
    {
      "cell_type": "markdown",
      "source": [
        "푼 알고리즘 문제\n",
        "\n",
        "id_1000, id_1001\n",
        "\n",
        "id_2557"
      ],
      "metadata": {
        "id": "xioAH5LWWzhw"
      }
    },
    {
      "cell_type": "markdown",
      "source": [
        "문제 2557 번\n",
        "\n",
        "문자열 \"Hello World!\" 출력하기"
      ],
      "metadata": {
        "id": "Ft36pElIWHqZ"
      }
    },
    {
      "cell_type": "code",
      "execution_count": 1,
      "metadata": {
        "colab": {
          "base_uri": "https://localhost:8080/"
        },
        "id": "aDYHL2wKVzm9",
        "outputId": "4b886fef-20cd-417c-c9a9-8c8a0c48e03b"
      },
      "outputs": [
        {
          "output_type": "stream",
          "name": "stdout",
          "text": [
            "Hello World!\n"
          ]
        }
      ],
      "source": [
        "print(\"Hello World!\")"
      ]
    },
    {
      "cell_type": "markdown",
      "source": [
        "문제 1000 번\n",
        "\n",
        "두 숫자를 받고 합의 결과를 반환하라"
      ],
      "metadata": {
        "id": "nSySKXa2XARa"
      }
    },
    {
      "cell_type": "code",
      "source": [
        "a, b = map(int,input().split())\n",
        "\n",
        "c = a+b\n",
        "print(c)"
      ],
      "metadata": {
        "colab": {
          "base_uri": "https://localhost:8080/"
        },
        "id": "6JOs_E9oWVMU",
        "outputId": "09db84c7-510e-43b5-ad8a-f15b0fe81b8b"
      },
      "execution_count": 4,
      "outputs": [
        {
          "output_type": "stream",
          "name": "stdout",
          "text": [
            "1 2\n",
            "3\n"
          ]
        }
      ]
    },
    {
      "cell_type": "markdown",
      "source": [
        "문제 1001 번\n",
        "\n",
        "두 숫자를 받고 뺄셈의 결과를 반환하라"
      ],
      "metadata": {
        "id": "VUIG-IHRYuph"
      }
    },
    {
      "cell_type": "code",
      "source": [
        "a, b = map(int,input().split())\n",
        "\n",
        "c = a-b\n",
        "print(c)"
      ],
      "metadata": {
        "colab": {
          "base_uri": "https://localhost:8080/"
        },
        "id": "Yg7PeEacXMmZ",
        "outputId": "be0df2b9-f2c7-4317-c3a8-ae894de9b80d"
      },
      "execution_count": 6,
      "outputs": [
        {
          "output_type": "stream",
          "name": "stdout",
          "text": [
            "3 2\n",
            "1\n"
          ]
        }
      ]
    },
    {
      "cell_type": "code",
      "source": [
        ""
      ],
      "metadata": {
        "id": "lrYdeieIW_Kh"
      },
      "execution_count": null,
      "outputs": []
    }
  ]
}